{
 "cells": [
  {
   "cell_type": "markdown",
   "metadata": {},
   "source": [
    "# Import libraries"
   ]
  },
  {
   "cell_type": "code",
   "execution_count": 1,
   "metadata": {
    "colab": {
     "base_uri": "https://localhost:8080/",
     "height": 34
    },
    "colab_type": "code",
    "executionInfo": {
     "elapsed": 535,
     "status": "ok",
     "timestamp": 1584264438984,
     "user": {
      "displayName": "Jannik Gut",
      "photoUrl": "",
      "userId": "12010650697891406388"
     },
     "user_tz": -60
    },
    "id": "NPQSm5fIfirv",
    "outputId": "f6726f84-10e0-4d6a-ebc9-7386b45c9bfe"
   },
   "outputs": [],
   "source": [
    "import numpy as np\n",
    "import pandas as pd\n",
    "import sklearn\n",
    "import matplotlib.pyplot as plt\n",
    "from sklearn.model_selection import train_test_split\n",
    "from sklearn import svm\n",
    "from sklearn.model_selection import RandomizedSearchCV\n",
    "from sklearn.metrics import roc_auc_score, auc, precision_recall_curve, accuracy_score\n",
    "from joblib import dump, load"
   ]
  },
  {
   "cell_type": "code",
   "execution_count": 3,
   "metadata": {
    "colab": {
     "base_uri": "https://localhost:8080/",
     "height": 34
    },
    "colab_type": "code",
    "executionInfo": {
     "elapsed": 8391,
     "status": "ok",
     "timestamp": 1584264446863,
     "user": {
      "displayName": "Jannik Gut",
      "photoUrl": "",
      "userId": "12010650697891406388"
     },
     "user_tz": -60
    },
    "id": "uLgRxvXwfuML",
    "outputId": "31a4b55d-e9f1-4abf-862f-dcbe6c034d00"
   },
   "outputs": [
    {
     "data": {
      "text/plain": [
       "<Figure size 432x288 with 0 Axes>"
      ]
     },
     "metadata": {},
     "output_type": "display_data"
    }
   ],
   "source": [
    "ptbdb_normal = pd.read_csv(\"ptbdb_normal.csv\", header=None)\n",
    "ptbdb_abnormal = pd.read_csv(\"ptbdb_abnormal.csv\", header=None)\n",
    "ptbdb = pd.concat([ptbdb_normal, ptbdb_abnormal])\n",
    "\n",
    "mitbih_train = pd.read_csv(\"mitbih_train.csv\", header=None)\n",
    "mitbih_train = mitbih_train.sample(frac=1)\n",
    "mitbih_test = pd.read_csv(\"mitbih_test.csv\", header=None)\n",
    "\n",
    "\n",
    "ptbdb_categories=2\n",
    "ptbdb_train, ptbdb_test = train_test_split(ptbdb, test_size=0.2, random_state=42, stratify=ptbdb[187])\n",
    "ptbdb_train_Y = np.array(ptbdb_train[187].values).astype(np.int8)\n",
    "ptbdb_train_X = np.array(ptbdb_train[list(range(187))].values)[..., np.newaxis].squeeze()\n",
    "ptbdb_validation_x, ptbdb_train_x, ptbdb_validation_y, ptbdb_train_y = train_test_split(ptbdb_train_X, ptbdb_train_Y, test_size=0.33, random_state=42)\n",
    "ptbdb_test_Y = np.array(ptbdb_test[187].values).astype(np.int8)\n",
    "ptbdb_test_X = np.array(ptbdb_test[list(range(187))].values)[..., np.newaxis].squeeze()\n",
    "ptbdb_beats=range(len(ptbdb_train_x))\n",
    "ptbdb_color=['green','red']\n",
    "ptbdb_label=[\"Normal beat\", \"Abnormal beat\"]\n",
    "\n",
    "mitbih_categories=5\n",
    "mitbih_train_Y = np.array(mitbih_train[187].values).astype(np.int8)\n",
    "mitbih_train_X = np.array(mitbih_train[list(range(187))].values)[..., np.newaxis].squeeze()\n",
    "mitbih_validation_x, mitbih_train_x, mitbih_validation_y, mitbih_train_y = train_test_split(mitbih_train_X, mitbih_train_Y, test_size=0.33, random_state=42)\n",
    "mitbih_beats=range(len(mitbih_train_x))\n",
    "mitbih_color=['green','red','black','blue','grey']\n",
    "mitbih_label=[\"Normal\", \"Supraventricular\", \"Premature\",\"Fusion\", \"Unclassifiable\"]\n",
    "\n",
    "for category in range(ptbdb_categories):\n",
    "    for beat in ptbdb_beats:\n",
    "        if ptbdb_train_y[beat]==category:\n",
    "            plt.plot(range(len(ptbdb_train_x[beat])),ptbdb_train_x[beat],color=ptbdb_color[category],label=ptbdb_label[category])\n",
    "            break\n",
    "plt.legend()\n",
    "plt.xlabel(\"time\")\n",
    "plt.ylabel(\"intensity\")\n",
    "plt.title('PTBDB Different beats')\n",
    "plt.savefig(\"ptbdb_dif_beats.png\")\n",
    "plt.clf()\n",
    "\n",
    "for category in range(mitbih_categories):\n",
    "    for beat in mitbih_beats:\n",
    "        if mitbih_train_y[beat]==category:\n",
    "            plt.plot(range(len(mitbih_train_x[beat])),mitbih_train_x[beat],color=mitbih_color[category],label=mitbih_label[category])\n",
    "            break\n",
    "plt.xlabel(\"time\")\n",
    "plt.ylabel(\"intensity\")\n",
    "plt.title('MITBIH Different beats')\n",
    "plt.legend()\n",
    "plt.savefig(\"mitbih_dif_beats.png\")\n",
    "plt.clf()"
   ]
  },
  {
   "cell_type": "code",
   "execution_count": 4,
   "metadata": {
    "colab": {
     "base_uri": "https://localhost:8080/",
     "height": 34
    },
    "colab_type": "code",
    "executionInfo": {
     "elapsed": 10936,
     "status": "ok",
     "timestamp": 1584264449419,
     "user": {
      "displayName": "Jannik Gut",
      "photoUrl": "",
      "userId": "12010650697891406388"
     },
     "user_tz": -60
    },
    "id": "Eb3fgqkjfxO9",
    "outputId": "35c09925-a001-4e67-ff4d-96b4522bb3f5"
   },
   "outputs": [
    {
     "data": {
      "text/plain": [
       "<Figure size 432x288 with 0 Axes>"
      ]
     },
     "metadata": {},
     "output_type": "display_data"
    }
   ],
   "source": [
    "window=15\n",
    "def make_peaks(data):\n",
    "    peaks=np.zeros((len(data),2*window))\n",
    "    for i in range(len(data)):\n",
    "        #I started after 10 because sometimes there is a big peak at the very start\n",
    "        peak=np.argmax(data[i][10:])+10\n",
    "        peakinfo=data[i][peak-window:peak+window]\n",
    "        for j in range(len(peakinfo)):\n",
    "            peaks[i][j]=peakinfo[j]\n",
    "    return pd.DataFrame(peaks)\n",
    "\n",
    "ptbdb_peaks=make_peaks(ptbdb_train_X)\n",
    "ptbdb_cat_peaks=pd.concat([ptbdb_peaks, pd.DataFrame(ptbdb_train_Y).rename(columns={0: \"Category\"})], axis=1)\n",
    "\n",
    "mitbih_peaks=make_peaks(mitbih_train_X)\n",
    "mitbih_cat_peaks=pd.concat([mitbih_peaks, pd.DataFrame(mitbih_train_Y).rename(columns={0: \"Category\"})], axis=1)\n",
    "\n",
    "ptbdb_cat_peaks=ptbdb_cat_peaks.groupby(['Category']).mean().T\n",
    "mitbih_cat_peaks=mitbih_cat_peaks.groupby(['Category']).mean().T"
   ]
  },
  {
   "cell_type": "code",
   "execution_count": 5,
   "metadata": {
    "colab": {
     "base_uri": "https://localhost:8080/",
     "height": 34
    },
    "colab_type": "code",
    "executionInfo": {
     "elapsed": 11637,
     "status": "ok",
     "timestamp": 1584264450126,
     "user": {
      "displayName": "Jannik Gut",
      "photoUrl": "",
      "userId": "12010650697891406388"
     },
     "user_tz": -60
    },
    "id": "o6zSEdC1f26r",
    "outputId": "f2eef01f-43bd-45df-87b8-c6fa5b6d7e58"
   },
   "outputs": [
    {
     "data": {
      "text/plain": [
       "<Figure size 432x288 with 0 Axes>"
      ]
     },
     "metadata": {},
     "output_type": "display_data"
    }
   ],
   "source": [
    "ptbdb_counts=ptbdb[187].value_counts(ascending=True).sort_index()\n",
    "mitbih_counts=pd.Series(mitbih_train_Y).value_counts().sort_index()\n"
   ]
  },
  {
   "cell_type": "code",
   "execution_count": 6,
   "metadata": {
    "colab": {
     "base_uri": "https://localhost:8080/",
     "height": 34
    },
    "colab_type": "code",
    "executionInfo": {
     "elapsed": 46859,
     "status": "ok",
     "timestamp": 1584264485356,
     "user": {
      "displayName": "Jannik Gut",
      "photoUrl": "",
      "userId": "12010650697891406388"
     },
     "user_tz": -60
    },
    "id": "-nRou6dQf5GE",
    "outputId": "927276ba-d575-4347-af47-35c92c2a1689"
   },
   "outputs": [
    {
     "data": {
      "text/plain": [
       "<Figure size 432x288 with 0 Axes>"
      ]
     },
     "metadata": {},
     "output_type": "display_data"
    }
   ],
   "source": [
    "def make_differences(X):\n",
    "    differences=np.zeros((len(X),len(X[1])))\n",
    "    signals=np.zeros(len(X))\n",
    "    for beat in range(len(X)):\n",
    "        for signal in range(1,len(X[1])):\n",
    "            if X[beat][signal-1]==0 and X[beat][signal]==0:\n",
    "                if (signal>=len(X[1])-2):\n",
    "                    signals[beat]=signal\n",
    "                    break\n",
    "                else:\n",
    "                    if X[beat][signal+1]==0 and X[beat][signal+2]==0:\n",
    "                        signals[beat]=signal\n",
    "                        break\n",
    "            differences[beat][signal]=X[beat][signal]-X[beat][signal-1]\n",
    "    return differences,signals\n",
    "\n",
    "ptbdb_difCat=[[],[]]\n",
    "ptbdb_differences, ptbdb_signals=make_differences(ptbdb_train_X)\n",
    "for beat in range(len(ptbdb_differences)):\n",
    "    ptbdb_difCat[ptbdb_train_Y[beat]].extend(ptbdb_differences[beat][:int(ptbdb_signals[beat]-1)])\n",
    "\n",
    "X=mitbih_train_X\n",
    "\n",
    "mitbih_difCat=[[],[],[],[],[]]\n",
    "mitbih_differences, mitbih_signals=make_differences(mitbih_train_X)\n",
    "for beat in range(len(mitbih_differences)):\n",
    "    mitbih_difCat[mitbih_train_Y[beat]].extend(mitbih_differences[beat][:int(mitbih_signals[beat]-1)])"
   ]
  },
  {
   "cell_type": "markdown",
   "metadata": {},
   "source": [
    "# Training of SVCs\n",
    "## check out the time it took me\n",
    "the error happened after the hypertuning of the SVC"
   ]
  },
  {
   "cell_type": "code",
   "execution_count": 7,
   "metadata": {
    "colab": {
     "base_uri": "https://localhost:8080/",
     "height": 221
    },
    "colab_type": "code",
    "id": "TWfPkyGZf-3-",
    "outputId": "86ea611c-977d-42b4-88ee-65cb6056a7e2"
   },
   "outputs": [
    {
     "name": "stderr",
     "output_type": "stream",
     "text": [
      "C:\\Users\\Jannik\\Anaconda3\\lib\\site-packages\\sklearn\\model_selection\\_split.py:1978: FutureWarning: The default value of cv will change from 3 to 5 in version 0.22. Specify it explicitly to silence this warning.\n",
      "  warnings.warn(CV_WARNING, FutureWarning)\n",
      "[Parallel(n_jobs=-2)]: Using backend LokyBackend with 3 concurrent workers.\n"
     ]
    },
    {
     "name": "stdout",
     "output_type": "stream",
     "text": [
      "Fitting 3 folds for each of 10 candidates, totalling 30 fits\n"
     ]
    },
    {
     "name": "stderr",
     "output_type": "stream",
     "text": [
      "[Parallel(n_jobs=-2)]: Done  19 tasks      | elapsed: 1726.3min\n",
      "[Parallel(n_jobs=-2)]: Done  30 out of  30 | elapsed: 2680.9min finished\n",
      "C:\\Users\\Jannik\\Anaconda3\\lib\\site-packages\\sklearn\\svm\\base.py:193: FutureWarning: The default value of gamma will change from 'auto' to 'scale' in version 0.22 to account better for unscaled features. Set gamma explicitly to 'auto' or 'scale' to avoid this warning.\n",
      "  \"avoid this warning.\", FutureWarning)\n"
     ]
    },
    {
     "name": "stdout",
     "output_type": "stream",
     "text": [
      "mitbih started\n",
      "Fitting 3 folds for each of 10 candidates, totalling 30 fits\n"
     ]
    },
    {
     "name": "stderr",
     "output_type": "stream",
     "text": [
      "C:\\Users\\Jannik\\Anaconda3\\lib\\site-packages\\sklearn\\model_selection\\_split.py:1978: FutureWarning: The default value of cv will change from 3 to 5 in version 0.22. Specify it explicitly to silence this warning.\n",
      "  warnings.warn(CV_WARNING, FutureWarning)\n",
      "[Parallel(n_jobs=-2)]: Using backend LokyBackend with 3 concurrent workers.\n",
      "[Parallel(n_jobs=-2)]: Done  19 tasks      | elapsed: 400.8min\n",
      "[Parallel(n_jobs=-2)]: Done  30 out of  30 | elapsed: 540.9min finished\n",
      "C:\\Users\\Jannik\\Anaconda3\\lib\\site-packages\\sklearn\\svm\\base.py:193: FutureWarning: The default value of gamma will change from 'auto' to 'scale' in version 0.22 to account better for unscaled features. Set gamma explicitly to 'auto' or 'scale' to avoid this warning.\n",
      "  \"avoid this warning.\", FutureWarning)\n"
     ]
    },
    {
     "ename": "NameError",
     "evalue": "name 'mitbih_test_X' is not defined",
     "output_type": "error",
     "traceback": [
      "\u001b[1;31m---------------------------------------------------------------------------\u001b[0m",
      "\u001b[1;31mNameError\u001b[0m                                 Traceback (most recent call last)",
      "\u001b[1;32m<ipython-input-7-f4771146e794>\u001b[0m in \u001b[0;36m<module>\u001b[1;34m\u001b[0m\n\u001b[0;32m     28\u001b[0m \u001b[0mmitbih_clf_peaks\u001b[0m\u001b[1;33m.\u001b[0m\u001b[0mfit\u001b[0m\u001b[1;33m(\u001b[0m\u001b[0mmitbih_peaks\u001b[0m\u001b[1;33m,\u001b[0m\u001b[0mmitbih_train_Y\u001b[0m\u001b[1;33m)\u001b[0m\u001b[1;33m\u001b[0m\u001b[1;33m\u001b[0m\u001b[0m\n\u001b[0;32m     29\u001b[0m \u001b[0mdump\u001b[0m\u001b[1;33m(\u001b[0m\u001b[0mmitbih_clf_peaks\u001b[0m\u001b[1;33m,\u001b[0m \u001b[1;34m'mitbih_clf_peaks.joblib'\u001b[0m\u001b[1;33m)\u001b[0m\u001b[1;33m\u001b[0m\u001b[1;33m\u001b[0m\u001b[0m\n\u001b[1;32m---> 30\u001b[1;33m \u001b[0mmitbih_svc_normal_acc\u001b[0m \u001b[1;33m=\u001b[0m \u001b[0mmitbih_clf_normal\u001b[0m\u001b[1;33m.\u001b[0m\u001b[0mscore\u001b[0m\u001b[1;33m(\u001b[0m\u001b[0mmitbih_test_X\u001b[0m\u001b[1;33m,\u001b[0m\u001b[0mmitbih_test_Y\u001b[0m\u001b[1;33m)\u001b[0m\u001b[1;33m\u001b[0m\u001b[1;33m\u001b[0m\u001b[0m\n\u001b[0m\u001b[0;32m     31\u001b[0m \u001b[0mmitbih_svc_peaks_acc\u001b[0m \u001b[1;33m=\u001b[0m \u001b[0mmitbih_clf_peaks\u001b[0m\u001b[1;33m.\u001b[0m\u001b[0mscore\u001b[0m\u001b[1;33m(\u001b[0m\u001b[0mmake_peaks\u001b[0m\u001b[1;33m(\u001b[0m\u001b[0mmitbih_test_X\u001b[0m\u001b[1;33m)\u001b[0m\u001b[1;33m,\u001b[0m\u001b[0mmitbih_test_Y\u001b[0m\u001b[1;33m)\u001b[0m\u001b[1;33m\u001b[0m\u001b[1;33m\u001b[0m\u001b[0m\n",
      "\u001b[1;31mNameError\u001b[0m: name 'mitbih_test_X' is not defined"
     ]
    }
   ],
   "source": [
    "parameters = {'kernel':('linear', 'poly', 'rbf', 'sigmoid'), 'C':[0.1, 1, 10], 'class_weight':[None, 'balanced'],'random_state':[36]}\n",
    "svc = svm.SVC(probability=True)\n",
    "#ptbdb_clf_normal = RandomizedSearchCV(svc, parameters,n_jobs=-2, verbose=4, random_state=36)\n",
    "#ptbdb_clf_peaks = RandomizedSearchCV(svc, parameters,n_jobs=-2, verbose=4, random_state=36)\n",
    "#ptbdb_clf_normal.fit(ptbdb_train_X,ptbdb_train_Y)\n",
    "#dump(ptbdb_clf_normal, 'ptbdb_clf_normal.joblib') \n",
    "#ptbdb_clf_peaks.fit(ptbdb_peaks,ptbdb_train_Y)\n",
    "#dump(ptbdb_clf_peaks, 'ptbdb_clf_peaks.joblib')\n",
    "#ptbdb_test_peaks=make_peaks(ptbdb_test_X)\n",
    "#ptbdb_svc_normal_acc=ptbdb_clf_normal.score(ptbdb_test_X.squeeze(),ptbdb_test_Y)\n",
    "#ptbdb_svc_peaks_acc=ptbdb_clf_peaks.score(ptbdb_test_peaks,ptbdb_test_Y)\n",
    "\n",
    "#test_probs_normal=ptbdb_clf_normal.predict_proba(ptbdb_test_X)[:,1]\n",
    "#test_probs_peaks=ptbdb_clf_peaks.predict_proba(ptbdb_test_peaks)[:,1]\n",
    "#ptbdb_svc_normal_auroc=roc_auc_score(ptbdb_test_Y, test_probs_normal)\n",
    "#ptbdb_svc_peaks_auroc = roc_auc_score(ptbdb_test_Y, test_probs_peaks)\n",
    "\n",
    "#precision, recall, thresh = precision_recall_curve(ptbdb_test_Y,test_probs_normal)\n",
    "#ptbdb_svc_peaks_auprc=auc(recall,precision)\n",
    "#precision, recall, thresh = precision_recall_curve(ptbdb_test_Y,test_probs_peaks)\n",
    "#ptbdb_svc_peaks_auprc=auc(recall,precision)\n",
    "\n",
    "mitbih_clf_normal=RandomizedSearchCV(svc, parameters,n_jobs=-2, verbose=4, random_state=36)\n",
    "mitbih_clf_peaks = RandomizedSearchCV(svc, parameters,n_jobs=-2, verbose=4, random_state=36)\n",
    "mitbih_clf_normal.fit(mitbih_train_X, mitbih_train_Y)\n",
    "print(\"mitbih started\")\n",
    "dump(mitbih_clf_normal, 'mitbih_clf_normal.joblib')\n",
    "mitbih_clf_peaks.fit(mitbih_peaks,mitbih_train_Y)\n",
    "dump(mitbih_clf_peaks, 'mitbih_clf_peaks.joblib')\n",
    "mitbih_svc_normal_acc = mitbih_clf_normal.score(mitbih_test_X,mitbih_test_Y)\n",
    "mitbih_svc_peaks_acc = mitbih_clf_peaks.score(make_peaks(mitbih_test_X),mitbih_test_Y)"
   ]
  }
 ],
 "metadata": {
  "colab": {
   "authorship_tag": "ABX9TyPmC8TXArp4+SAHLF3EgqN9",
   "name": "CPU Healthcare.ipynb",
   "provenance": []
  },
  "kernelspec": {
   "display_name": "Python 3",
   "language": "python",
   "name": "python3"
  },
  "language_info": {
   "codemirror_mode": {
    "name": "ipython",
    "version": 3
   },
   "file_extension": ".py",
   "mimetype": "text/x-python",
   "name": "python",
   "nbconvert_exporter": "python",
   "pygments_lexer": "ipython3",
   "version": "3.7.4"
  }
 },
 "nbformat": 4,
 "nbformat_minor": 1
}
